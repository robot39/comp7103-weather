{
 "cells": [
  {
   "cell_type": "code",
   "execution_count": 2,
   "metadata": {},
   "outputs": [],
   "source": [
    "# import necessary libraries\n",
    "import csv"
   ]
  },
  {
   "cell_type": "raw",
   "metadata": {},
   "source": [
    "[Data Pre-processing]\n",
    "Remove non-numeric values in numeric field"
   ]
  },
  {
   "cell_type": "code",
   "execution_count": 27,
   "metadata": {},
   "outputs": [],
   "source": [
    "with open('weather2016_1.csv', 'w', newline='') as outputfile:\n",
    "    writer = csv.writer(outputfile, delimiter=',')\n",
    "    with open('weather2016.csv') as inputfile:\n",
    "        reader = csv.reader(inputfile)\n",
    "        for row in reader:\n",
    "            # replace the '-' and 'Trace' in Rainfall with 0\n",
    "            if row[11] == '-' or row [11] == 'Trace':\n",
    "                row[11] = '0'\n",
    "            # replace the '-' in Sunshine with 0\n",
    "            if row[13] == '-':\n",
    "                row[13] = '0'\n",
    "            \n",
    "            writer.writerow(row)"
   ]
  },
  {
   "cell_type": "code",
   "execution_count": 28,
   "metadata": {},
   "outputs": [],
   "source": [
    "with open('weather2016_2.csv', 'w', newline='') as outputfile:\n",
    "    writer = csv.writer(outputfile, delimiter=',')\n",
    "    with open('weather2016_1.csv') as inputfile:\n",
    "        reader = csv.reader(inputfile)\n",
    "        prev_row = None\n",
    "        for row in reader:\n",
    "            if row[15] == 'N.A.' or row[15] == 'N/A':\n",
    "                row[15] = ''\n",
    "            prev_row = row\n",
    "            writer.writerow(row)"
   ]
  },
  {
   "cell_type": "raw",
   "metadata": {},
   "source": [
    "[Data Preprocessing]\n",
    "Insert label for the mode of operation"
   ]
  },
  {
   "cell_type": "code",
   "execution_count": 29,
   "metadata": {},
   "outputs": [],
   "source": [
    "with open('weather2017_3.csv', 'w', newline='') as outputfile:\n",
    "    writer = csv.writer(outputfile, delimiter=',')\n",
    "    with open('weather2017_2.csv') as inputfile:\n",
    "        reader = csv.reader(inputfile)\n",
    "        first_row = True\n",
    "        for row in reader:\n",
    "            # Add the column header\n",
    "            if first_row:\n",
    "                first_row = False\n",
    "                row.append('Label')\n",
    "                writer.writerow(row)\n",
    "                continue\n",
    "            \n",
    "            # Add the label according to e_high and e_low\n",
    "            label = 'Off'\n",
    "            e_high = float(row[14]) * 60 * 0.2 - 24 * 4\n",
    "            e_low = float(row[14]) * 60 * 0.18 - 24 * 3 - float(row[13])\n",
    "            if e_high > 0 and e_high > e_low:\n",
    "                label = 'High'\n",
    "            elif e_low > 0:\n",
    "                label = 'Low'\n",
    "            row.append(label)\n",
    "            writer.writerow(row)"
   ]
  },
  {
   "cell_type": "raw",
   "metadata": {},
   "source": [
    "[Data Preprocessing]\n",
    "Relate mode of operation with data from the previous 5 days"
   ]
  },
  {
   "cell_type": "code",
   "execution_count": 3,
   "metadata": {},
   "outputs": [],
   "source": [
    "def gen_prev_cols( rows ):\n",
    "    cols = []\n",
    "    for row in rows:\n",
    "        cols = cols + row[4:len(row)-1] # skip the date and the mode\n",
    "    return cols"
   ]
  },
  {
   "cell_type": "code",
   "execution_count": 4,
   "metadata": {},
   "outputs": [],
   "source": [
    "def gen_n_days_headers( n ):\n",
    "    default_headers = ['Pressure','Temp_max','Temp_mean','Temp_min','Temp_dew','Humidity','Cloud','Rainfall','Visi_redu','Sunshine','Radiation','Evaporation','Wind_dir','Wind_spd']\n",
    "    headers = []\n",
    "    for index in range(n):\n",
    "        suffix = '_' + str(index+1) + 'd'\n",
    "        headers = headers + [ header+suffix for header in  default_headers ]\n",
    "    return headers    "
   ]
  },
  {
   "cell_type": "code",
   "execution_count": 5,
   "metadata": {},
   "outputs": [],
   "source": [
    "num_of_prev_days = 5\n",
    "\n",
    "with open('weather2017_4.csv', 'w', newline='') as outputfile:\n",
    "    writer = csv.writer(outputfile, delimiter=',')\n",
    "    with open('weather2017_3.csv') as inputfile:\n",
    "        reader = csv.reader(inputfile)\n",
    "        first_row = True\n",
    "        headers = gen_n_days_headers(num_of_prev_days)\n",
    "        prev_rows = [None] * num_of_prev_days\n",
    "        \n",
    "        for row in reader:\n",
    "            # Add the column header\n",
    "            if first_row:\n",
    "                first_row = False\n",
    "                row = row[0:2] + headers + [row[-1]]\n",
    "                writer.writerow(row)\n",
    "                continue\n",
    "            \n",
    "            # generate the output row\n",
    "            if prev_rows[0] != None:\n",
    "                output_row = row[0:2] + gen_prev_cols(prev_rows) + [row[-1]]\n",
    "                writer.writerow(output_row)\n",
    "                \n",
    "            # Update prev_rows\n",
    "            prev_rows.pop(0)\n",
    "            prev_rows.append(row)"
   ]
  },
  {
   "cell_type": "code",
   "execution_count": null,
   "metadata": {},
   "outputs": [],
   "source": []
  }
 ],
 "metadata": {
  "kernelspec": {
   "display_name": "Python 3",
   "language": "python",
   "name": "python3"
  },
  "language_info": {
   "codemirror_mode": {
    "name": "ipython",
    "version": 3
   },
   "file_extension": ".py",
   "mimetype": "text/x-python",
   "name": "python",
   "nbconvert_exporter": "python",
   "pygments_lexer": "ipython3",
   "version": "3.6.4"
  }
 },
 "nbformat": 4,
 "nbformat_minor": 2
}
